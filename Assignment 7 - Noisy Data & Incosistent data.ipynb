{
 "cells": [
  {
   "cell_type": "markdown",
   "id": "01cc4691",
   "metadata": {},
   "source": [
    "### 3.2 Gaussian Filter"
   ]
  },
  {
   "cell_type": "code",
   "execution_count": 1,
   "id": "ef7c7d4a",
   "metadata": {},
   "outputs": [],
   "source": [
    "import cv2\n",
    "import numpy as np\n",
    "import os\n",
    "\n",
    "input_dir = \"3.2 Gaussian_before/\"\n",
    "output_dir = \"3.2 Gaussian_after/\"\n",
    "\n",
    "if not os.path.exists(output_dir):\n",
    "    os.makedirs(output_dir)\n",
    "\n",
    "for filename in os.listdir(input_dir):\n",
    "    if filename.endswith('.png') or filename.endswith('.jpg'):\n",
    "        # Read the image\n",
    "        image_path = os.path.join(input_dir, filename)\n",
    "        image = cv2.imread(image_path)\n",
    "        \n",
    "        # Apply filter\n",
    "        blurred_img = cv2.GaussianBlur(image, (201, 201), 0)\n",
    "        mask = np.zeros(image.shape, np.uint8)\n",
    "        gray = cv2.cvtColor(image, cv2.COLOR_BGR2GRAY)\n",
    "        _, thresh = cv2.threshold(gray, 60, 255, cv2.THRESH_BINARY)\n",
    "        contours, hierarchy = cv2.findContours(thresh.copy(), cv2.RETR_EXTERNAL, cv2.CHAIN_APPROX_SIMPLE)\n",
    "        cv2.drawContours(mask, contours, -1, (255,255,255),5)\n",
    "        output = np.where(mask==np.array([255, 255, 255]), blurred_img, image)\n",
    "        \n",
    "        # Save the output\n",
    "        output_path = os.path.join(output_dir, filename)\n",
    "        cv2.imwrite(output_path, output)\n",
    "\n"
   ]
  },
  {
   "cell_type": "markdown",
   "id": "5d77f11a",
   "metadata": {},
   "source": [
    "### 3.3.1 Image Resizing"
   ]
  },
  {
   "cell_type": "code",
   "execution_count": 2,
   "id": "c8a5f8fc",
   "metadata": {},
   "outputs": [],
   "source": [
    "import cv2\n",
    "import os\n",
    "\n",
    "# Set the new dimensions\n",
    "new_width = 800\n",
    "new_height = 800\n",
    "\n",
    "# Set the directory paths\n",
    "input_dir = \"3.3.1 resize_before/\"\n",
    "output_dir = \"3.3.1 resize_after/\"\n",
    "\n",
    "# Create the output directory if it doesn't exist\n",
    "if not os.path.exists(output_dir):\n",
    "    os.makedirs(output_dir)\n",
    "\n",
    "# Iterate over the input directory\n",
    "for filename in os.listdir(input_dir):\n",
    "    # Load the image\n",
    "    img = cv2.imread(os.path.join(input_dir, filename))\n",
    "\n",
    "    # Resize the image\n",
    "    resized_img = cv2.resize(img, (new_width, new_height))\n",
    "\n",
    "    # Save the resized image to the output directory\n",
    "    output_path = os.path.join(output_dir, filename)\n",
    "    cv2.imwrite(output_path, resized_img)\n"
   ]
  },
  {
   "cell_type": "markdown",
   "id": "2a6c1bfa",
   "metadata": {},
   "source": [
    "### 3.3.2 Data Naming Consistency"
   ]
  },
  {
   "cell_type": "code",
   "execution_count": 5,
   "id": "4441722e",
   "metadata": {},
   "outputs": [],
   "source": [
    "import os\n",
    "import shutil\n",
    "\n",
    "dir1_path = \"3.3.2 Data_Annotation_before/good1/\"\n",
    "dir2_path = \"3.3.2 Data_Annotation_before/good2/\"\n",
    "new_dir_path = \"3.3.2 Data_Annotation_after/good/\"\n",
    "\n",
    "count = 1\n",
    "\n",
    "for dir_path in [dir1_path, dir2_path]:\n",
    "    for filename in os.listdir(dir_path):\n",
    "        if filename.endswith(\".png\"):\n",
    "            new_filename = \"good_\" + str(count) + \".png\"\n",
    "            src_file_path = os.path.join(dir_path, filename)\n",
    "            dst_file_path = os.path.join(new_dir_path, new_filename)\n",
    "            if os.path.exists(dst_file_path):\n",
    "                os.remove(dst_file_path) # remove the existing file\n",
    "            shutil.copy(src_file_path, dst_file_path)\n",
    "            count += 1"
   ]
  },
  {
   "cell_type": "code",
   "execution_count": 6,
   "id": "06127fe7",
   "metadata": {},
   "outputs": [],
   "source": [
    "import os\n",
    "import shutil\n",
    "\n",
    "dir1_path = \"3.3.2 Data_Annotation_before/defective1/\"\n",
    "dir2_path = \"3.3.2 Data_Annotation_before/defective2/\"\n",
    "new_dir_path = \"3.3.2 Data_Annotation_after/defective/\"\n",
    "\n",
    "\n",
    "count = 1\n",
    "\n",
    "for dir_path in [dir1_path, dir2_path]:\n",
    "    for filename in os.listdir(dir_path):\n",
    "        if filename.endswith(\".png\"):\n",
    "            new_filename = \"defective_\" + str(count) + \".png\"\n",
    "            src_file_path = os.path.join(dir_path, filename)\n",
    "            dst_file_path = os.path.join(new_dir_path, new_filename)\n",
    "            if os.path.exists(dst_file_path):\n",
    "                os.remove(dst_file_path) # remove the existing file\n",
    "            shutil.copy(src_file_path, dst_file_path)\n",
    "            count += 1"
   ]
  },
  {
   "cell_type": "markdown",
   "id": "17a5469a",
   "metadata": {},
   "source": [
    "### 3.3.3 Data Integration"
   ]
  },
  {
   "cell_type": "code",
   "execution_count": null,
   "id": "136784e1",
   "metadata": {},
   "outputs": [],
   "source": [
    "import cv2\n",
    "import os\n",
    "\n",
    "\n",
    "input_dir = '3.3.3 data_integration_before/'\n",
    "output_dir = '3.3.3 data_integration_after/'\n",
    "\n",
    "# Loop over all images in the input directory\n",
    "for filename in os.listdir(input_dir):\n",
    "    if filename.endswith('.png'):  # Only process PNG images\n",
    "        # Load image\n",
    "        img = cv2.imread(os.path.join(input_dir, filename))\n",
    "\n",
    "        # Resize image to 800 x 800\n",
    "        img = cv2.resize(img, (800, 800))\n",
    "\n",
    "        # Split image into color channels\n",
    "        b, g, r = cv2.split(img)\n",
    "\n",
    "        # Convert color channels to float32 data type\n",
    "        b = b.astype('float32')\n",
    "        g = g.astype('float32')\n",
    "        r = r.astype('float32')\n",
    "\n",
    "        # Normalize pixel values using min-max scaling\n",
    "        b = cv2.normalize(b, None, alpha=0, beta=1, norm_type=cv2.NORM_MINMAX)\n",
    "        g = cv2.normalize(g, None, alpha=0, beta=1, norm_type=cv2.NORM_MINMAX)\n",
    "        r = cv2.normalize(r, None, alpha=0, beta=1, norm_type=cv2.NORM_MINMAX)\n",
    "\n",
    "        # Apply CLAHE to each color channel\n",
    "        clahe = cv2.createCLAHE(clipLimit=2.0, tileGridSize=(8,8))\n",
    "        b = clahe.apply((b * 255).astype('uint8'))\n",
    "        g = clahe.apply((g * 255).astype('uint8'))\n",
    "        r = clahe.apply((r * 255).astype('uint8'))\n",
    "\n",
    "        # Merge color channels back into a single color image\n",
    "        img = cv2.merge((b, g, r))\n",
    "\n",
    "        # Convert image back to its original data type\n",
    "        img = img.astype('uint8')\n",
    "\n",
    "        # Save standardized image to output directory\n",
    "        cv2.imwrite(os.path.join(output_dir, filename), img)\n"
   ]
  }
 ],
 "metadata": {
  "kernelspec": {
   "display_name": "Python 3 (ipykernel)",
   "language": "python",
   "name": "python3"
  },
  "language_info": {
   "codemirror_mode": {
    "name": "ipython",
    "version": 3
   },
   "file_extension": ".py",
   "mimetype": "text/x-python",
   "name": "python",
   "nbconvert_exporter": "python",
   "pygments_lexer": "ipython3",
   "version": "3.9.13"
  }
 },
 "nbformat": 4,
 "nbformat_minor": 5
}
