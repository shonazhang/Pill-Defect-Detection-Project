{
 "cells": [
  {
   "cell_type": "markdown",
   "id": "01cc4691",
   "metadata": {},
   "source": [
    "### 3.2 Gaussian Filter"
   ]
  },
  {
   "cell_type": "code",
   "execution_count": 126,
   "id": "ef7c7d4a",
   "metadata": {},
   "outputs": [],
   "source": [
    "import cv2\n",
    "import numpy as np\n",
    "import os\n",
    "\n",
    "input_dir = \"3.2 Gaussian_before/\"\n",
    "output_dir = \"3.2 Gaussian_after/\"\n",
    "\n",
    "if not os.path.exists(output_dir):\n",
    "    os.makedirs(output_dir)\n",
    "\n",
    "for filename in os.listdir(input_dir):\n",
    "    if filename.endswith('.png') or filename.endswith('.jpg'):\n",
    "        # Read the image\n",
    "        image_path = os.path.join(input_dir, filename)\n",
    "        image = cv2.imread(image_path)\n",
    "        \n",
    "        # Apply filter\n",
    "        blurred_img = cv2.GaussianBlur(image, (201, 201), 0)\n",
    "        mask = np.zeros(image.shape, np.uint8)\n",
    "        gray = cv2.cvtColor(image, cv2.COLOR_BGR2GRAY)\n",
    "        _, thresh = cv2.threshold(gray, 60, 255, cv2.THRESH_BINARY)\n",
    "        contours, hierarchy = cv2.findContours(thresh.copy(), cv2.RETR_EXTERNAL, cv2.CHAIN_APPROX_SIMPLE)\n",
    "        cv2.drawContours(mask, contours, -1, (255,255,255),5)\n",
    "        output = np.where(mask==np.array([255, 255, 255]), blurred_img, image)\n",
    "        \n",
    "        # Save the output\n",
    "        output_path = os.path.join(output_dir, filename)\n",
    "        cv2.imwrite(output_path, output)\n",
    "\n"
   ]
  },
  {
   "cell_type": "markdown",
   "id": "5d77f11a",
   "metadata": {},
   "source": [
    "### 3.3.1 Image Resizing"
   ]
  },
  {
   "cell_type": "code",
   "execution_count": 128,
   "id": "c8a5f8fc",
   "metadata": {},
   "outputs": [],
   "source": [
    "import cv2\n",
    "import os\n",
    "\n",
    "# Set the new dimensions\n",
    "new_width = 800\n",
    "new_height = 800\n",
    "\n",
    "# Set the directory paths\n",
    "input_dir = \"3.3.1 resize_before/\"\n",
    "output_dir = \"3.3.1 resize_after/\"\n",
    "\n",
    "# Create the output directory if it doesn't exist\n",
    "if not os.path.exists(output_dir):\n",
    "    os.makedirs(output_dir)\n",
    "\n",
    "# Iterate over the input directory\n",
    "for filename in os.listdir(input_dir):\n",
    "    # Load the image\n",
    "    img = cv2.imread(os.path.join(input_dir, filename))\n",
    "\n",
    "    # Resize the image\n",
    "    resized_img = cv2.resize(img, (new_width, new_height))\n",
    "\n",
    "    # Save the resized image to the output directory\n",
    "    output_path = os.path.join(output_dir, filename)\n",
    "    cv2.imwrite(output_path, resized_img)\n"
   ]
  },
  {
   "cell_type": "markdown",
   "id": "f9b20554",
   "metadata": {},
   "source": [
    "### 3.3.2 Data Augmentation"
   ]
  },
  {
   "cell_type": "code",
   "execution_count": 129,
   "id": "9090caaf",
   "metadata": {},
   "outputs": [],
   "source": [
    "import cv2\n",
    "import numpy as np\n",
    "import os\n",
    "\n",
    "# Set the input and output directories\n",
    "input_dir = '3.3.2 Data_augmentation_before/'\n",
    "output_dir = '3.3.2 Data_augmentation_after/'\n",
    "\n",
    "\n",
    "# Define the augmentations\n",
    "augmentations = [\n",
    "    (\"rotate_90\", cv2.ROTATE_90_CLOCKWISE),\n",
    "    (\"rotate_180\", cv2.ROTATE_180),\n",
    "    (\"rotate_270\", cv2.ROTATE_90_COUNTERCLOCKWISE),\n",
    "    (\"flip_horiz\", 1),\n",
    "    (\"flip_vert\", 0),\n",
    "]\n",
    "\n",
    "# Iterate through the input directory\n",
    "for filename in os.listdir(input_dir):\n",
    "    if filename.endswith(\".png\"):\n",
    "        # Load the image\n",
    "        image = cv2.imread(os.path.join(input_dir, filename))\n",
    "\n",
    "        # Apply each augmentation and save the result\n",
    "        for aug_name, aug_func in augmentations:\n",
    "            augmented = cv2.flip(image, aug_func)\n",
    "            output_filename = os.path.splitext(filename)[0] + '_' + aug_name + '.png'\n",
    "            cv2.imwrite(os.path.join(output_dir, output_filename), augmented)\n"
   ]
  },
  {
   "cell_type": "markdown",
   "id": "17a5469a",
   "metadata": {},
   "source": [
    "### 3.3.3 Data Standardization"
   ]
  },
  {
   "cell_type": "code",
   "execution_count": 127,
   "id": "90efe8f5",
   "metadata": {},
   "outputs": [],
   "source": [
    "import cv2\n",
    "import os\n",
    "\n",
    "# Input directory containing images to be standardized\n",
    "input_dir = '3.3.3 data_standardization_before/'\n",
    "\n",
    "# Output directory to save standardized images\n",
    "output_dir = '3.3.3 data_standardization_after/'\n",
    "\n",
    "# Loop over all images in the input directory\n",
    "for filename in os.listdir(input_dir):\n",
    "    if filename.endswith('.png'):  # Only process PNG images\n",
    "        # Load image in grayscale\n",
    "        img = cv2.imread(os.path.join(input_dir, filename), cv2.IMREAD_GRAYSCALE)\n",
    "\n",
    "        # Resize image to 800 x 800\n",
    "        img = cv2.resize(img, (800, 800))\n",
    "\n",
    "        # Normalize pixel values using min-max scaling\n",
    "        img = cv2.normalize(img, None, alpha=0, beta=255, norm_type=cv2.NORM_MINMAX)\n",
    "\n",
    "        # Save standardized image to output directory\n",
    "        cv2.imwrite(os.path.join(output_dir, filename), img)\n",
    "\n"
   ]
  }
 ],
 "metadata": {
  "kernelspec": {
   "display_name": "Python 3 (ipykernel)",
   "language": "python",
   "name": "python3"
  },
  "language_info": {
   "codemirror_mode": {
    "name": "ipython",
    "version": 3
   },
   "file_extension": ".py",
   "mimetype": "text/x-python",
   "name": "python",
   "nbconvert_exporter": "python",
   "pygments_lexer": "ipython3",
   "version": "3.9.13"
  }
 },
 "nbformat": 4,
 "nbformat_minor": 5
}
