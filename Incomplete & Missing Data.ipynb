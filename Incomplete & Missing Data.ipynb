{
 "cells": [
  {
   "cell_type": "code",
   "execution_count": null,
   "id": "d320aa3f-f203-4edb-bfe0-921850a03396",
   "metadata": {},
   "outputs": [],
   "source": [
    "!pip install opencv-python numpy"
   ]
  },
  {
   "cell_type": "code",
   "execution_count": null,
   "id": "144cc0c2-e43c-4c26-9f04-406b134ebadf",
   "metadata": {},
   "outputs": [],
   "source": [
    "import cv2\n",
    "import numpy as np\n",
    "import os"
   ]
  },
  {
   "cell_type": "code",
   "execution_count": null,
   "id": "a7084d49-9621-46f2-939d-ae3466b01333",
   "metadata": {},
   "outputs": [],
   "source": [
    "def is_pure_color(image):\n",
    "    # Check if the image is a single color\n",
    "    unique_colors = np.unique(image.reshape(-1, image.shape[-1]), axis=0)\n",
    "    if len(unique_colors) == 1:\n",
    "        return True, unique_colors[0]\n",
    "\n",
    "    return False, None"
   ]
  },
  {
   "cell_type": "code",
   "execution_count": null,
   "id": "08b13519-9b3e-4e50-a911-b645e01e1487",
   "metadata": {},
   "outputs": [],
   "source": [
    "# def is_pure_black_or_white(image):\n",
    "#     # Pure black or white threshold\n",
    "#     black_threshold = 0\n",
    "#     white_threshold = 255\n",
    "\n",
    "#     # Check if the image is pure black\n",
    "#     if np.all(image == black_threshold):\n",
    "#         return True, \"black\"\n",
    "\n",
    "#     # Check if the image is pure white\n",
    "#     if np.all(image == white_threshold):\n",
    "#         return True, \"white\"\n",
    "\n",
    "#     return False, None"
   ]
  },
  {
   "cell_type": "code",
   "execution_count": null,
   "id": "ba644183-90fb-4ba6-ab15-1473b0b6694a",
   "metadata": {},
   "outputs": [],
   "source": [
    "def preprocess_images(input_folder, output_folder):\n",
    "    for filename in os.listdir(input_folder):\n",
    "        file_path = os.path.join(input_folder, filename)\n",
    "\n",
    "        # Check if the file is an image\n",
    "        if not filename.lower().endswith(('.png', '.jpg', '.jpeg', '.tiff', '.bmp', '.gif')):\n",
    "            continue\n",
    "\n",
    "        # Read the image\n",
    "        image = cv2.imread(file_path, cv2.IMREAD_COLOR)\n",
    "\n",
    "        # Check if the image is pure color\n",
    "        is_pure, color = is_pure_color(image)\n",
    "        if is_pure:\n",
    "            print(f\"The image {filename} is pure {color}.\")\n",
    "            continue\n",
    "\n",
    "        # Preprocess the image, e.g., resize, normalize, etc.\n",
    "        preprocessed_image = cv2.resize(image, (224, 224))\n",
    "        preprocessed_image = preprocessed_image / 255.0\n",
    "\n",
    "        # Save the preprocessed image to the output folder\n",
    "        output_path = os.path.join(output_folder, filename)\n",
    "        cv2.imwrite(output_path, preprocessed_image * 255)\n"
   ]
  },
  {
   "cell_type": "code",
   "execution_count": null,
   "id": "d92599fd-181c-4b13-ac52-8bd7e8fe9d3e",
   "metadata": {},
   "outputs": [],
   "source": [
    "input_folder = \"...ImageProcessing/pill_defect\"\n",
    "output_folder = \"...ImageProcessing/pill_defect_processed\"\n",
    "\n",
    "# Create the output folder if it doesn't exist\n",
    "os.makedirs(output_folder, exist_ok=True)\n",
    "\n",
    "preprocess_images(input_folder, output_folder)"
   ]
  },
  {
   "cell_type": "code",
   "execution_count": null,
   "id": "ade4a848-3058-4722-8a85-eb2f7d66e734",
   "metadata": {},
   "outputs": [],
   "source": []
  },
  {
   "cell_type": "code",
   "execution_count": null,
   "id": "c4e6fe25-3361-4588-8002-e62229e2574e",
   "metadata": {},
   "outputs": [],
   "source": []
  },
  {
   "cell_type": "code",
   "execution_count": null,
   "id": "eaa978e5-d80a-414f-9a67-aedaeda3f0b8",
   "metadata": {},
   "outputs": [],
   "source": []
  },
  {
   "cell_type": "code",
   "execution_count": null,
   "id": "e547ae6d-d625-4da4-b160-9db9fad572eb",
   "metadata": {},
   "outputs": [],
   "source": []
  }
 ],
 "metadata": {
  "kernelspec": {
   "display_name": "Python 3 (ipykernel)",
   "language": "python",
   "name": "python3"
  },
  "language_info": {
   "codemirror_mode": {
    "name": "ipython",
    "version": 3
   },
   "file_extension": ".py",
   "mimetype": "text/x-python",
   "name": "python",
   "nbconvert_exporter": "python",
   "pygments_lexer": "ipython3",
   "version": "3.9.12"
  }
 },
 "nbformat": 4,
 "nbformat_minor": 5
}
